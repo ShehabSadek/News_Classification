{
 "cells": [
  {
   "cell_type": "code",
   "execution_count": 20,
   "metadata": {},
   "outputs": [],
   "source": [
    "import pandas as pd\n",
    "from Preprocess import * \n",
    "from FeatureExtraction import *\n",
    "from plotting import *"
   ]
  },
  {
   "cell_type": "code",
   "execution_count": 21,
   "metadata": {},
   "outputs": [
    {
     "name": "stdout",
     "output_type": "stream",
     "text": [
      "1    2523\n",
      "0    2477\n",
      "Name: label, dtype: int64\n",
      "(5000, 2)\n",
      "(5000,)\n"
     ]
    }
   ],
   "source": [
    "df = pd.read_csv('data/WELFake_Dataset.csv')\n",
    "\n",
    "df.drop(df.columns[0], axis=1, inplace=True)\n",
    "df.dropna(inplace=True)\n",
    "\n",
    "df = df.sample(n=5000, random_state=42)\n",
    "\n",
    "print(df['label'].value_counts())\n",
    "\n",
    "X=df.drop(['label'],axis=1)\n",
    "y=df['label']\n",
    "print(X.shape)\n",
    "print(y.shape)"
   ]
  },
  {
   "cell_type": "code",
   "execution_count": 3,
   "metadata": {},
   "outputs": [],
   "source": [
    "# df = pd.read_csv('data/news_articles.csv')\n",
    "\n",
    "# df.dropna(inplace=True)\n",
    "# df.drop(df[df['language'] != 'english'].index,inplace=True)\n",
    "# df=df.drop(['published','main_img_url','type','language','title_without_stopwords','text_without_stopwords'],axis=1)\n",
    "\n",
    "\n",
    "# print(df['label'].value_counts())\n",
    "\n",
    "# X=df.drop(['label'],axis=1)\n",
    "# y=df['label']\n",
    "# print(X.shape)\n",
    "# print(y.shape)\n"
   ]
  },
  {
   "cell_type": "code",
   "execution_count": 22,
   "metadata": {},
   "outputs": [
    {
     "data": {
      "text/html": [
       "<div>\n",
       "<style scoped>\n",
       "    .dataframe tbody tr th:only-of-type {\n",
       "        vertical-align: middle;\n",
       "    }\n",
       "\n",
       "    .dataframe tbody tr th {\n",
       "        vertical-align: top;\n",
       "    }\n",
       "\n",
       "    .dataframe thead th {\n",
       "        text-align: right;\n",
       "    }\n",
       "</style>\n",
       "<table border=\"1\" class=\"dataframe\">\n",
       "  <thead>\n",
       "    <tr style=\"text-align: right;\">\n",
       "      <th></th>\n",
       "      <th>title</th>\n",
       "      <th>text</th>\n",
       "    </tr>\n",
       "  </thead>\n",
       "  <tbody>\n",
       "    <tr>\n",
       "      <th>54359</th>\n",
       "      <td>Live at Truthdig: Robert Scheer and Thomas Fra...</td>\n",
       "      <td>Live at Truthdig: Robert Scheer and Thomas Fra...</td>\n",
       "    </tr>\n",
       "    <tr>\n",
       "      <th>6993</th>\n",
       "      <td>The Mirage of a Return to Manufacturing Greatn...</td>\n",
       "      <td>Half a century ago, harvesting California’s 2....</td>\n",
       "    </tr>\n",
       "    <tr>\n",
       "      <th>28912</th>\n",
       "      <td>British PM expected to offer to fill post-Brex...</td>\n",
       "      <td>(Reuters) - The British government has told Ge...</td>\n",
       "    </tr>\n",
       "    <tr>\n",
       "      <th>65965</th>\n",
       "      <td>Checkmating Obama</td>\n",
       "      <td>Originally published by the Jerusalem Post . \\...</td>\n",
       "    </tr>\n",
       "    <tr>\n",
       "      <th>2307</th>\n",
       "      <td>Thirty-eight injured in police charges in Cata...</td>\n",
       "      <td>MADRID (Reuters) - Emergency services have att...</td>\n",
       "    </tr>\n",
       "  </tbody>\n",
       "</table>\n",
       "</div>"
      ],
      "text/plain": [
       "                                                   title  \\\n",
       "54359  Live at Truthdig: Robert Scheer and Thomas Fra...   \n",
       "6993   The Mirage of a Return to Manufacturing Greatn...   \n",
       "28912  British PM expected to offer to fill post-Brex...   \n",
       "65965                                  Checkmating Obama   \n",
       "2307   Thirty-eight injured in police charges in Cata...   \n",
       "\n",
       "                                                    text  \n",
       "54359  Live at Truthdig: Robert Scheer and Thomas Fra...  \n",
       "6993   Half a century ago, harvesting California’s 2....  \n",
       "28912  (Reuters) - The British government has told Ge...  \n",
       "65965  Originally published by the Jerusalem Post . \\...  \n",
       "2307   MADRID (Reuters) - Emergency services have att...  "
      ]
     },
     "execution_count": 22,
     "metadata": {},
     "output_type": "execute_result"
    }
   ],
   "source": [
    "X.head()"
   ]
  },
  {
   "cell_type": "code",
   "execution_count": 23,
   "metadata": {},
   "outputs": [
    {
     "data": {
      "image/png": "[encoded data removed]",
      "text/plain": [
       "<Figure size 300x300 with 1 Axes>"
      ]
     },
     "metadata": {},
     "output_type": "display_data"
    }
   ],
   "source": [
    "import matplotlib.pyplot as plt\n",
    "\n",
    "label_counts = y.value_counts()\n",
    "\n",
    "plt.figure(figsize=(3, 3))\n",
    "plt.pie(label_counts, labels=label_counts.index, autopct='%1.1f%%', startangle=90)\n",
    "plt.axis('equal')\n",
    "plt.title('Label Distribution')\n",
    "plt.show()\n"
   ]
  },
  {
   "cell_type": "code",
   "execution_count": 24,
   "metadata": {},
   "outputs": [
    {
     "name": "stdout",
     "output_type": "stream",
     "text": [
      "54359    live truthdig robert scheer thomas frank talk ...\n",
      "6993     half century ago harvesting california million...\n",
      "28912    reuters british government told german chancel...\n",
      "Name: preprocessed_text, dtype: object\n"
     ]
    }
   ],
   "source": [
    "X['preprocessed_text'] = preprocess_text(X['text'])\n",
    "print(X['preprocessed_text'].head(3))\n"
   ]
  },
  {
   "cell_type": "code",
   "execution_count": 7,
   "metadata": {},
   "outputs": [
    {
     "name": "stdout",
     "output_type": "stream",
     "text": [
      "(1, 1)-gram\n",
      "LogisticRegression: [0.8766666666666667, 0.863905325443787, 0.9125, 0.8875379939209725]\n",
      "MultinomialNB: [0.8166666666666667, 0.9007633587786259, 0.7375, 0.8109965635738832]\n",
      "RandomForestClassifier: [0.88, 0.8875, 0.8875, 0.8875]\n",
      "SVC: [0.88, 0.8647058823529412, 0.91875, 0.8909090909090909]\n",
      "(2, 2)-gram\n",
      "LogisticRegression: [0.8733333333333333, 0.8860759493670886, 0.875, 0.8805031446540881]\n",
      "MultinomialNB: [0.8266666666666667, 0.9354838709677419, 0.725, 0.8169014084507041]\n",
      "RandomForestClassifier: [0.78, 0.7326732673267327, 0.925, 0.8176795580110497]\n",
      "SVC: [0.86, 0.8470588235294118, 0.9, 0.8727272727272727]\n",
      "(3, 3)-gram\n",
      "LogisticRegression: [0.8066666666666666, 0.8035714285714286, 0.84375, 0.8231707317073171]\n",
      "MultinomialNB: [0.78, 0.8405797101449275, 0.725, 0.778523489932886]\n",
      "RandomForestClassifier: [0.6133333333333333, 0.5814814814814815, 0.98125, 0.7302325581395349]\n",
      "SVC: [0.5966666666666667, 0.9148936170212766, 0.26875, 0.41545893719806765]\n"
     ]
    }
   ],
   "source": [
    "from sklearn.ensemble import RandomForestClassifier\n",
    "from sklearn.linear_model import LogisticRegression\n",
    "from sklearn.naive_bayes import MultinomialNB\n",
    "from sklearn.svm import SVC\n",
    "from sklearn.metrics import accuracy_score, precision_score, recall_score, f1_score\n",
    "from sklearn.feature_extraction.text import TfidfVectorizer\n",
    "from sklearn.model_selection import train_test_split\n",
    "\n",
    "X_train, X_test, y_train, y_test = train_test_split(X['preprocessed_text'], y, test_size=0.2, random_state=42)\n",
    "\n",
    "ngram_ranges = [(1, 1), (2, 2), (3, 3)]\n",
    "\n",
    "classifiers = [\n",
    "    LogisticRegression(),\n",
    "    MultinomialNB(),\n",
    "    RandomForestClassifier(),\n",
    "    SVC()\n",
    "]\n",
    "\n",
    "for ngram_range in ngram_ranges:\n",
    "    metrics_dict = {}\n",
    "    vectorizer = TfidfVectorizer(ngram_range=ngram_range)\n",
    "    X_train_tfidf = vectorizer.fit_transform(X_train)\n",
    "    X_test_tfidf = vectorizer.transform(X_test)\n",
    "\n",
    "    for classifier in classifiers:\n",
    "        classifier_name = classifier.__class__.__name__\n",
    "        classifier_metrics = []\n",
    "\n",
    "        classifier.fit(X_train_tfidf, y_train)\n",
    "        y_pred = classifier.predict(X_test_tfidf)\n",
    "\n",
    "        accuracy = accuracy_score(y_test, y_pred)\n",
    "        precision = precision_score(y_test, y_pred)\n",
    "        recall = recall_score(y_test, y_pred)\n",
    "        f1 = f1_score(y_test, y_pred)\n",
    "        classifier_metrics.extend([accuracy, precision, recall, f1])\n",
    "        metrics_dict[classifier_name] = classifier_metrics\n",
    "\n",
    "    print(f\"{ngram_range}-gram\")\n",
    "    for classifier_name, classifier_metrics in metrics_dict.items():\n",
    "        print(f\"{classifier_name}: {classifier_metrics}\")\n"
   ]
  },
  {
   "cell_type": "code",
   "execution_count": 8,
   "metadata": {},
   "outputs": [
    {
     "data": {
      "image/png": "[encoded data removed]",
      "text/plain": [
       "<Figure size 640x480 with 1 Axes>"
      ]
     },
     "metadata": {},
     "output_type": "display_data"
    },
    {
     "data": {
      "text/plain": [
       "<Figure size 300x300 with 0 Axes>"
      ]
     },
     "metadata": {},
     "output_type": "display_data"
    }
   ],
   "source": [
    "plot_accuracy_graph([\"LR\",\"NB\",\"RF\",\"SVM\"],[0.912,0.854,0.891,0.916])"
   ]
  },
  {
   "cell_type": "code",
   "execution_count": 9,
   "metadata": {},
   "outputs": [
    {
     "name": "stdout",
     "output_type": "stream",
     "text": [
      "(1, 1)-gram\n",
      "LogisticRegression: [0.866, 0.7946666666666666, 0.6393333333333333]\n",
      "MultinomialNB: [0.8160000000000001, 0.8373333333333333, 0.6973333333333334]\n",
      "RandomForestClassifier: [0.8746666666666666, 0.7646666666666666, 0.5846666666666668]\n",
      "SVC: [0.8753333333333334, 0.7493333333333333, 0.4873333333333333]\n",
      "(2, 2)-gram\n",
      "LogisticRegression: [0.866, 0.7946666666666666, 0.6393333333333333]\n",
      "MultinomialNB: [0.8160000000000001, 0.8373333333333333, 0.6973333333333334]\n",
      "RandomForestClassifier: [0.8746666666666666, 0.7646666666666666, 0.5846666666666668]\n",
      "SVC: [0.8753333333333334, 0.7493333333333333, 0.4873333333333333]\n",
      "(3, 3)-gram\n",
      "LogisticRegression: [0.866, 0.7946666666666666, 0.6393333333333333]\n",
      "MultinomialNB: [0.8160000000000001, 0.8373333333333333, 0.6973333333333334]\n",
      "RandomForestClassifier: [0.8746666666666666, 0.7646666666666666, 0.5846666666666668]\n",
      "SVC: [0.8753333333333334, 0.7493333333333333, 0.4873333333333333]\n"
     ]
    }
   ],
   "source": [
    "import numpy as np\n",
    "from sklearn.ensemble import RandomForestClassifier\n",
    "from sklearn.linear_model import LogisticRegression\n",
    "from sklearn.naive_bayes import MultinomialNB\n",
    "from sklearn.svm import SVC\n",
    "from sklearn.metrics import accuracy_score\n",
    "from sklearn.feature_extraction.text import TfidfVectorizer\n",
    "from sklearn.model_selection import KFold\n",
    "\n",
    "X = X['preprocessed_text']\n",
    "y = np.array(y)\n",
    "\n",
    "ngram_ranges = [(1, 1), (2, 2), (3, 3)]\n",
    "\n",
    "classifiers = [\n",
    "    LogisticRegression(max_iter=1000),\n",
    "    MultinomialNB(),\n",
    "    RandomForestClassifier(),\n",
    "    SVC()\n",
    "]\n",
    "\n",
    "kf = KFold(n_splits=5, shuffle=True, random_state=42)\n",
    "\n",
    "metrics_dict = {}\n",
    "\n",
    "for classifier in classifiers:\n",
    "    classifier_name = classifier.__class__.__name__\n",
    "    classifier_metrics = []\n",
    "\n",
    "    for ngram_range in ngram_ranges:\n",
    "        vectorizer = TfidfVectorizer(ngram_range=ngram_range)\n",
    "        X_tfidf = vectorizer.fit_transform(X)\n",
    "\n",
    "        accuracies = []\n",
    "        for train_index, test_index in kf.split(X_tfidf):\n",
    "            X_train, X_test = X_tfidf[train_index], X_tfidf[test_index]\n",
    "            y_train, y_test = y[train_index], y[test_index]\n",
    "\n",
    "            classifier.fit(X_train, y_train)\n",
    "            y_pred = classifier.predict(X_test)\n",
    "            accuracy = accuracy_score(y_test, y_pred)\n",
    "            accuracies.append(accuracy)\n",
    "\n",
    "        mean_accuracy = np.mean(accuracies)\n",
    "        classifier_metrics.append(mean_accuracy)\n",
    "\n",
    "    metrics_dict[classifier_name] = classifier_metrics\n",
    "\n",
    "for ngram_range in ngram_ranges:\n",
    "    print(f\"{ngram_range}-gram\")\n",
    "    for classifier_name, classifier_metrics in metrics_dict.items():\n",
    "        print(f\"{classifier_name}: {classifier_metrics}\")\n"
   ]
  },
  {
   "cell_type": "code",
   "execution_count": 20,
   "metadata": {},
   "outputs": [
    {
     "name": "stderr",
     "output_type": "stream",
     "text": [
      "C:\\Users\\PC\\AppData\\Roaming\\Python\\Python311\\site-packages\\numpy\\core\\fromnumeric.py:3432: RuntimeWarning: Mean of empty slice.\n",
      "  return _methods._mean(a, axis=axis, dtype=dtype,\n",
      "C:\\Users\\PC\\AppData\\Roaming\\Python\\Python311\\site-packages\\numpy\\core\\_methods.py:190: RuntimeWarning: invalid value encountered in double_scalars\n",
      "  ret = ret.dtype.type(ret / rcount)\n",
      "C:\\Users\\PC\\AppData\\Local\\Temp\\ipykernel_10772\\2016398441.py:29: VisibleDeprecationWarning: Creating an ndarray from ragged nested sequences (which is a list-or-tuple of lists-or-tuples-or ndarrays with different lengths or shapes) is deprecated. If you meant to do this, you must specify 'dtype=object' when creating the ndarray.\n",
      "  X_train_word_vectors = np.array([\n",
      "C:\\Users\\PC\\AppData\\Local\\Temp\\ipykernel_10772\\2016398441.py:33: VisibleDeprecationWarning: Creating an ndarray from ragged nested sequences (which is a list-or-tuple of lists-or-tuples-or ndarrays with different lengths or shapes) is deprecated. If you meant to do this, you must specify 'dtype=object' when creating the ndarray.\n",
      "  X_test_word_vectors = np.array([\n"
     ]
    },
    {
     "ename": "ValueError",
     "evalue": "setting an array element with a sequence.",
     "output_type": "error",
     "traceback": [
      "\u001b[1;31m---------------------------------------------------------------------------\u001b[0m",
      "\u001b[1;31mTypeError\u001b[0m                                 Traceback (most recent call last)",
      "\u001b[1;31mTypeError\u001b[0m: only size-1 arrays can be converted to Python scalars",
      "\nThe above exception was the direct cause of the following exception:\n",
      "\u001b[1;31mValueError\u001b[0m                                Traceback (most recent call last)",
      "Cell \u001b[1;32mIn[20], line 38\u001b[0m\n\u001b[0;32m     29\u001b[0m X_train_word_vectors \u001b[39m=\u001b[39m np\u001b[39m.\u001b[39marray([\n\u001b[0;32m     30\u001b[0m     np\u001b[39m.\u001b[39mmean([word2vec_model\u001b[39m.\u001b[39mwv[word] \u001b[39mfor\u001b[39;00m word \u001b[39min\u001b[39;00m sentence \u001b[39mif\u001b[39;00m word \u001b[39min\u001b[39;00m word2vec_model\u001b[39m.\u001b[39mwv], axis\u001b[39m=\u001b[39m\u001b[39m0\u001b[39m)\n\u001b[0;32m     31\u001b[0m     \u001b[39mfor\u001b[39;00m sentence \u001b[39min\u001b[39;00m X_train\n\u001b[0;32m     32\u001b[0m ])\n\u001b[0;32m     33\u001b[0m X_test_word_vectors \u001b[39m=\u001b[39m np\u001b[39m.\u001b[39marray([\n\u001b[0;32m     34\u001b[0m     np\u001b[39m.\u001b[39mmean([word2vec_model\u001b[39m.\u001b[39mwv[word] \u001b[39mfor\u001b[39;00m word \u001b[39min\u001b[39;00m sentence \u001b[39mif\u001b[39;00m word \u001b[39min\u001b[39;00m word2vec_model\u001b[39m.\u001b[39mwv], axis\u001b[39m=\u001b[39m\u001b[39m0\u001b[39m)\n\u001b[0;32m     35\u001b[0m     \u001b[39mfor\u001b[39;00m sentence \u001b[39min\u001b[39;00m X_test\n\u001b[0;32m     36\u001b[0m ])\n\u001b[1;32m---> 38\u001b[0m X_train_normalized \u001b[39m=\u001b[39m preprocessing\u001b[39m.\u001b[39;49mnormalize(X_train_word_vectors, norm\u001b[39m=\u001b[39;49m\u001b[39m'\u001b[39;49m\u001b[39ml2\u001b[39;49m\u001b[39m'\u001b[39;49m)\n\u001b[0;32m     39\u001b[0m X_test_normalized \u001b[39m=\u001b[39m preprocessing\u001b[39m.\u001b[39mnormalize(X_test_word_vectors, norm\u001b[39m=\u001b[39m\u001b[39m'\u001b[39m\u001b[39ml2\u001b[39m\u001b[39m'\u001b[39m)\n\u001b[0;32m     41\u001b[0m \u001b[39mfor\u001b[39;00m classifier \u001b[39min\u001b[39;00m classifiers:\n",
      "File \u001b[1;32mc:\\Python311\\Lib\\site-packages\\sklearn\\preprocessing\\_data.py:1817\u001b[0m, in \u001b[0;36mnormalize\u001b[1;34m(X, norm, axis, copy, return_norm)\u001b[0m\n\u001b[0;32m   1814\u001b[0m \u001b[39melse\u001b[39;00m:\n\u001b[0;32m   1815\u001b[0m     \u001b[39mraise\u001b[39;00m \u001b[39mValueError\u001b[39;00m(\u001b[39m\"\u001b[39m\u001b[39m'\u001b[39m\u001b[39m%d\u001b[39;00m\u001b[39m'\u001b[39m\u001b[39m is not a supported axis\u001b[39m\u001b[39m\"\u001b[39m \u001b[39m%\u001b[39m axis)\n\u001b[1;32m-> 1817\u001b[0m X \u001b[39m=\u001b[39m check_array(\n\u001b[0;32m   1818\u001b[0m     X,\n\u001b[0;32m   1819\u001b[0m     accept_sparse\u001b[39m=\u001b[39;49msparse_format,\n\u001b[0;32m   1820\u001b[0m     copy\u001b[39m=\u001b[39;49mcopy,\n\u001b[0;32m   1821\u001b[0m     estimator\u001b[39m=\u001b[39;49m\u001b[39m\"\u001b[39;49m\u001b[39mthe normalize function\u001b[39;49m\u001b[39m\"\u001b[39;49m,\n\u001b[0;32m   1822\u001b[0m     dtype\u001b[39m=\u001b[39;49mFLOAT_DTYPES,\n\u001b[0;32m   1823\u001b[0m )\n\u001b[0;32m   1824\u001b[0m \u001b[39mif\u001b[39;00m axis \u001b[39m==\u001b[39m \u001b[39m0\u001b[39m:\n\u001b[0;32m   1825\u001b[0m     X \u001b[39m=\u001b[39m X\u001b[39m.\u001b[39mT\n",
      "File \u001b[1;32mc:\\Python311\\Lib\\site-packages\\sklearn\\utils\\validation.py:879\u001b[0m, in \u001b[0;36mcheck_array\u001b[1;34m(array, accept_sparse, accept_large_sparse, dtype, order, copy, force_all_finite, ensure_2d, allow_nd, ensure_min_samples, ensure_min_features, estimator, input_name)\u001b[0m\n\u001b[0;32m    877\u001b[0m         array \u001b[39m=\u001b[39m xp\u001b[39m.\u001b[39mastype(array, dtype, copy\u001b[39m=\u001b[39m\u001b[39mFalse\u001b[39;00m)\n\u001b[0;32m    878\u001b[0m     \u001b[39melse\u001b[39;00m:\n\u001b[1;32m--> 879\u001b[0m         array \u001b[39m=\u001b[39m _asarray_with_order(array, order\u001b[39m=\u001b[39;49morder, dtype\u001b[39m=\u001b[39;49mdtype, xp\u001b[39m=\u001b[39;49mxp)\n\u001b[0;32m    880\u001b[0m \u001b[39mexcept\u001b[39;00m ComplexWarning \u001b[39mas\u001b[39;00m complex_warning:\n\u001b[0;32m    881\u001b[0m     \u001b[39mraise\u001b[39;00m \u001b[39mValueError\u001b[39;00m(\n\u001b[0;32m    882\u001b[0m         \u001b[39m\"\u001b[39m\u001b[39mComplex data not supported\u001b[39m\u001b[39m\\n\u001b[39;00m\u001b[39m{}\u001b[39;00m\u001b[39m\\n\u001b[39;00m\u001b[39m\"\u001b[39m\u001b[39m.\u001b[39mformat(array)\n\u001b[0;32m    883\u001b[0m     ) \u001b[39mfrom\u001b[39;00m \u001b[39mcomplex_warning\u001b[39;00m\n",
      "File \u001b[1;32mc:\\Python311\\Lib\\site-packages\\sklearn\\utils\\_array_api.py:185\u001b[0m, in \u001b[0;36m_asarray_with_order\u001b[1;34m(array, dtype, order, copy, xp)\u001b[0m\n\u001b[0;32m    182\u001b[0m     xp, _ \u001b[39m=\u001b[39m get_namespace(array)\n\u001b[0;32m    183\u001b[0m \u001b[39mif\u001b[39;00m xp\u001b[39m.\u001b[39m\u001b[39m__name__\u001b[39m \u001b[39min\u001b[39;00m {\u001b[39m\"\u001b[39m\u001b[39mnumpy\u001b[39m\u001b[39m\"\u001b[39m, \u001b[39m\"\u001b[39m\u001b[39mnumpy.array_api\u001b[39m\u001b[39m\"\u001b[39m}:\n\u001b[0;32m    184\u001b[0m     \u001b[39m# Use NumPy API to support order\u001b[39;00m\n\u001b[1;32m--> 185\u001b[0m     array \u001b[39m=\u001b[39m numpy\u001b[39m.\u001b[39masarray(array, order\u001b[39m=\u001b[39morder, dtype\u001b[39m=\u001b[39mdtype)\n\u001b[0;32m    186\u001b[0m     \u001b[39mreturn\u001b[39;00m xp\u001b[39m.\u001b[39masarray(array, copy\u001b[39m=\u001b[39mcopy)\n\u001b[0;32m    187\u001b[0m \u001b[39melse\u001b[39;00m:\n",
      "\u001b[1;31mValueError\u001b[0m: setting an array element with a sequence."
     ]
    }
   ],
   "source": [
    "from gensim.models import Word2Vec\n",
    "from sklearn.ensemble import RandomForestClassifier\n",
    "from sklearn.linear_model import LogisticRegression\n",
    "from sklearn.neighbors import KNeighborsClassifier\n",
    "from sklearn.svm import SVC\n",
    "from sklearn.metrics import accuracy_score, precision_score, recall_score, f1_score\n",
    "from sklearn.model_selection import train_test_split\n",
    "from sklearn import preprocessing\n",
    "import numpy as np\n",
    "\n",
    "sentences = [text.split() for text in X['preprocessed_text']]\n",
    "word2vec_model = Word2Vec(sentences, min_count=1, vector_size=100)\n",
    "\n",
    "X_train, X_test, y_train, y_test = train_test_split(sentences, y, test_size=0.2, random_state=42)\n",
    "\n",
    "ngram_ranges = [(1, 1), (2, 2), (3, 3)]\n",
    "\n",
    "classifiers = [\n",
    "    LogisticRegression(),\n",
    "    RandomForestClassifier(),\n",
    "    SVC()\n",
    "]\n",
    "\n",
    "metrics_dict = {}\n",
    "\n",
    "for ngram_range in ngram_ranges:\n",
    "    ngram_metrics = {}\n",
    "    \n",
    "    X_train_word_vectors = np.array([\n",
    "        np.mean([word2vec_model.wv[word] for word in sentence if word in word2vec_model.wv], axis=0)\n",
    "        for sentence in X_train\n",
    "    ])\n",
    "    X_test_word_vectors = np.array([\n",
    "        np.mean([word2vec_model.wv[word] for word in sentence if word in word2vec_model.wv], axis=0)\n",
    "        for sentence in X_test\n",
    "    ])\n",
    "    \n",
    "    X_train_normalized = preprocessing.normalize(X_train_word_vectors, norm='l2')\n",
    "    X_test_normalized = preprocessing.normalize(X_test_word_vectors, norm='l2')\n",
    "\n",
    "    for classifier in classifiers:\n",
    "        classifier_name = classifier.__class__.__name__\n",
    "        classifier_metrics = []\n",
    "\n",
    "        classifier.fit(X_train_normalized, y_train)\n",
    "        y_pred = classifier.predict(X_test_normalized)\n",
    "\n",
    "        accuracy = accuracy_score(y_test, y_pred)\n",
    "        precision = precision_score(y_test, y_pred)\n",
    "        recall = recall_score(y_test, y_pred)\n",
    "        f1 = f1_score(y_test, y_pred)\n",
    "\n",
    "        classifier_metrics.extend([accuracy, precision, recall, f1])\n",
    "        ngram_metrics[classifier_name] = classifier_metrics\n",
    "\n",
    "    metrics_dict[ngram_range] = ngram_metrics\n",
    "\n",
    "for ngram_range, ngram_metrics in metrics_dict.items():\n",
    "    print(f\"n-gram range {ngram_range}:\")\n",
    "    for classifier_name, classifier_metrics in ngram_metrics.items():\n",
    "        print(f\"{classifier_name}: {classifier_metrics}\")"
   ]
  },
  {
   "cell_type": "code",
   "execution_count": 27,
   "metadata": {},
   "outputs": [
    {
     "name": "stdout",
     "output_type": "stream",
     "text": [
      "Model: \"sequential_36\"\n",
      "_________________________________________________________________\n",
      " Layer (type)                Output Shape              Param #   \n",
      "=================================================================\n",
      " embedding_36 (Embedding)    (None, 40, 150)           450000    \n",
      "                                                                 \n",
      " dropout_36 (Dropout)        (None, 40, 150)           0         \n",
      "                                                                 \n",
      " lstm_36 (LSTM)              (None, 100)               100400    \n",
      "                                                                 \n",
      " dense_36 (Dense)            (None, 1)                 101       \n",
      "                                                                 \n",
      "=================================================================\n",
      "Total params: 550,501\n",
      "Trainable params: 550,501\n",
      "Non-trainable params: 0\n",
      "_________________________________________________________________\n",
      "None\n",
      "(5000, 40)\n",
      "(5000,)\n",
      "Epoch 1/5\n",
      "63/63 [==============================] - 10s 148ms/step - loss: 0.5308 - accuracy: 0.7530 - val_loss: 0.3619 - val_accuracy: 0.8490\n",
      "Epoch 2/5\n",
      "63/63 [==============================] - 9s 145ms/step - loss: 0.2820 - accuracy: 0.8913 - val_loss: 0.3324 - val_accuracy: 0.8620\n",
      "Epoch 3/5\n",
      "63/63 [==============================] - 9s 143ms/step - loss: 0.1816 - accuracy: 0.9352 - val_loss: 0.3614 - val_accuracy: 0.8560\n",
      "Epoch 4/5\n",
      "63/63 [==============================] - 9s 141ms/step - loss: 0.1141 - accuracy: 0.9628 - val_loss: 0.3945 - val_accuracy: 0.8520\n",
      "Epoch 5/5\n",
      "63/63 [==============================] - 9s 143ms/step - loss: 0.0771 - accuracy: 0.9768 - val_loss: 0.4589 - val_accuracy: 0.8270\n"
     ]
    },
    {
     "data": {
      "text/plain": [
       "<keras.callbacks.History at 0x1d1462ee4d0>"
      ]
     },
     "execution_count": 27,
     "metadata": {},
     "output_type": "execute_result"
    }
   ],
   "source": [
    "import tensorflow as tf\n",
    "import numpy as np\n",
    "\n",
    "from tensorflow.keras.layers import Embedding\n",
    "from tensorflow.keras.preprocessing.sequence import pad_sequences\n",
    "from tensorflow.keras.models import Sequential\n",
    "from tensorflow.keras.preprocessing.text import one_hot\n",
    "from tensorflow.keras.layers import LSTM\n",
    "from tensorflow.keras.layers import Dense\n",
    "from tensorflow.keras.layers import Dropout\n",
    "\n",
    "from sklearn.model_selection import train_test_split\n",
    "\n",
    "voc_size=3000\n",
    "onehot_repr=[one_hot(words,voc_size)for words in X['preprocessed_text']]\n",
    "\n",
    "sentence_len=40\n",
    "embedded_doc = pad_sequences(onehot_repr,padding='pre',maxlen=sentence_len)\n",
    "\n",
    "embedding_vec_feature=150\n",
    "model=Sequential()\n",
    "model.add(Embedding(voc_size,embedding_vec_feature,input_length=sentence_len))\n",
    "model.add(Dropout(0.5))\n",
    "model.add(LSTM(100))\n",
    "model.add(Dense(1,activation='sigmoid'))\n",
    "model.compile(loss='binary_crossentropy',optimizer='adam',metrics=['accuracy'])\n",
    "print(model.summary())\n",
    "\n",
    "\n",
    "\n",
    "\n",
    "X_f=np.array(embedded_doc)\n",
    "y_f=np.array(y)\n",
    "print(X_f.shape)\n",
    "print(y_f.shape)\n",
    "\n",
    "\n",
    "X_train, X_test, y_train, y_test = train_test_split(X_f, y_f, test_size=0.2, random_state=42)\n",
    "\n",
    "model.fit(X_train,y_train,validation_data=(X_test,y_test),epochs=5,batch_size=64)\n",
    "\n"
   ]
  },
  {
   "cell_type": "code",
   "execution_count": 28,
   "metadata": {},
   "outputs": [
    {
     "ename": "KeyboardInterrupt",
     "evalue": "",
     "output_type": "error",
     "traceback": [
      "\u001b[1;31m---------------------------------------------------------------------------\u001b[0m",
      "\u001b[1;31mKeyboardInterrupt\u001b[0m                         Traceback (most recent call last)",
      "Cell \u001b[1;32mIn[28], line 37\u001b[0m\n\u001b[0;32m     33\u001b[0m y_f \u001b[39m=\u001b[39m np\u001b[39m.\u001b[39marray(y)\n\u001b[0;32m     35\u001b[0m X_train, X_test, y_train, y_test \u001b[39m=\u001b[39m train_test_split(X_f, y_f, test_size\u001b[39m=\u001b[39m\u001b[39m0.2\u001b[39m, random_state\u001b[39m=\u001b[39m\u001b[39m42\u001b[39m)\n\u001b[1;32m---> 37\u001b[0m model\u001b[39m.\u001b[39;49mfit(X_train, y_train, validation_data\u001b[39m=\u001b[39;49m(X_test, y_test), epochs\u001b[39m=\u001b[39;49m\u001b[39m5\u001b[39;49m, batch_size\u001b[39m=\u001b[39;49m\u001b[39m64\u001b[39;49m, verbose\u001b[39m=\u001b[39;49m\u001b[39m0\u001b[39;49m)\n\u001b[0;32m     39\u001b[0m y_pred_prob \u001b[39m=\u001b[39m model\u001b[39m.\u001b[39mpredict(X_test)\n\u001b[0;32m     40\u001b[0m y_pred \u001b[39m=\u001b[39m np\u001b[39m.\u001b[39mround(y_pred_prob)\u001b[39m.\u001b[39mastype(\u001b[39mint\u001b[39m)\n",
      "File \u001b[1;32mc:\\Python311\\Lib\\site-packages\\keras\\utils\\traceback_utils.py:65\u001b[0m, in \u001b[0;36mfilter_traceback.<locals>.error_handler\u001b[1;34m(*args, **kwargs)\u001b[0m\n\u001b[0;32m     63\u001b[0m filtered_tb \u001b[39m=\u001b[39m \u001b[39mNone\u001b[39;00m\n\u001b[0;32m     64\u001b[0m \u001b[39mtry\u001b[39;00m:\n\u001b[1;32m---> 65\u001b[0m     \u001b[39mreturn\u001b[39;00m fn(\u001b[39m*\u001b[39;49margs, \u001b[39m*\u001b[39;49m\u001b[39m*\u001b[39;49mkwargs)\n\u001b[0;32m     66\u001b[0m \u001b[39mexcept\u001b[39;00m \u001b[39mException\u001b[39;00m \u001b[39mas\u001b[39;00m e:\n\u001b[0;32m     67\u001b[0m     filtered_tb \u001b[39m=\u001b[39m _process_traceback_frames(e\u001b[39m.\u001b[39m__traceback__)\n",
      "File \u001b[1;32mc:\\Python311\\Lib\\site-packages\\keras\\engine\\training.py:1685\u001b[0m, in \u001b[0;36mModel.fit\u001b[1;34m(self, x, y, batch_size, epochs, verbose, callbacks, validation_split, validation_data, shuffle, class_weight, sample_weight, initial_epoch, steps_per_epoch, validation_steps, validation_batch_size, validation_freq, max_queue_size, workers, use_multiprocessing)\u001b[0m\n\u001b[0;32m   1677\u001b[0m \u001b[39mwith\u001b[39;00m tf\u001b[39m.\u001b[39mprofiler\u001b[39m.\u001b[39mexperimental\u001b[39m.\u001b[39mTrace(\n\u001b[0;32m   1678\u001b[0m     \u001b[39m\"\u001b[39m\u001b[39mtrain\u001b[39m\u001b[39m\"\u001b[39m,\n\u001b[0;32m   1679\u001b[0m     epoch_num\u001b[39m=\u001b[39mepoch,\n\u001b[1;32m   (...)\u001b[0m\n\u001b[0;32m   1682\u001b[0m     _r\u001b[39m=\u001b[39m\u001b[39m1\u001b[39m,\n\u001b[0;32m   1683\u001b[0m ):\n\u001b[0;32m   1684\u001b[0m     callbacks\u001b[39m.\u001b[39mon_train_batch_begin(step)\n\u001b[1;32m-> 1685\u001b[0m     tmp_logs \u001b[39m=\u001b[39m \u001b[39mself\u001b[39;49m\u001b[39m.\u001b[39;49mtrain_function(iterator)\n\u001b[0;32m   1686\u001b[0m     \u001b[39mif\u001b[39;00m data_handler\u001b[39m.\u001b[39mshould_sync:\n\u001b[0;32m   1687\u001b[0m         context\u001b[39m.\u001b[39masync_wait()\n",
      "File \u001b[1;32m~\\AppData\\Roaming\\Python\\Python311\\site-packages\\tensorflow\\python\\util\\traceback_utils.py:150\u001b[0m, in \u001b[0;36mfilter_traceback.<locals>.error_handler\u001b[1;34m(*args, **kwargs)\u001b[0m\n\u001b[0;32m    148\u001b[0m filtered_tb \u001b[39m=\u001b[39m \u001b[39mNone\u001b[39;00m\n\u001b[0;32m    149\u001b[0m \u001b[39mtry\u001b[39;00m:\n\u001b[1;32m--> 150\u001b[0m   \u001b[39mreturn\u001b[39;00m fn(\u001b[39m*\u001b[39;49margs, \u001b[39m*\u001b[39;49m\u001b[39m*\u001b[39;49mkwargs)\n\u001b[0;32m    151\u001b[0m \u001b[39mexcept\u001b[39;00m \u001b[39mException\u001b[39;00m \u001b[39mas\u001b[39;00m e:\n\u001b[0;32m    152\u001b[0m   filtered_tb \u001b[39m=\u001b[39m _process_traceback_frames(e\u001b[39m.\u001b[39m__traceback__)\n",
      "File \u001b[1;32m~\\AppData\\Roaming\\Python\\Python311\\site-packages\\tensorflow\\python\\eager\\polymorphic_function\\polymorphic_function.py:894\u001b[0m, in \u001b[0;36mFunction.__call__\u001b[1;34m(self, *args, **kwds)\u001b[0m\n\u001b[0;32m    891\u001b[0m compiler \u001b[39m=\u001b[39m \u001b[39m\"\u001b[39m\u001b[39mxla\u001b[39m\u001b[39m\"\u001b[39m \u001b[39mif\u001b[39;00m \u001b[39mself\u001b[39m\u001b[39m.\u001b[39m_jit_compile \u001b[39melse\u001b[39;00m \u001b[39m\"\u001b[39m\u001b[39mnonXla\u001b[39m\u001b[39m\"\u001b[39m\n\u001b[0;32m    893\u001b[0m \u001b[39mwith\u001b[39;00m OptionalXlaContext(\u001b[39mself\u001b[39m\u001b[39m.\u001b[39m_jit_compile):\n\u001b[1;32m--> 894\u001b[0m   result \u001b[39m=\u001b[39m \u001b[39mself\u001b[39;49m\u001b[39m.\u001b[39;49m_call(\u001b[39m*\u001b[39;49margs, \u001b[39m*\u001b[39;49m\u001b[39m*\u001b[39;49mkwds)\n\u001b[0;32m    896\u001b[0m new_tracing_count \u001b[39m=\u001b[39m \u001b[39mself\u001b[39m\u001b[39m.\u001b[39mexperimental_get_tracing_count()\n\u001b[0;32m    897\u001b[0m without_tracing \u001b[39m=\u001b[39m (tracing_count \u001b[39m==\u001b[39m new_tracing_count)\n",
      "File \u001b[1;32m~\\AppData\\Roaming\\Python\\Python311\\site-packages\\tensorflow\\python\\eager\\polymorphic_function\\polymorphic_function.py:926\u001b[0m, in \u001b[0;36mFunction._call\u001b[1;34m(self, *args, **kwds)\u001b[0m\n\u001b[0;32m    923\u001b[0m   \u001b[39mself\u001b[39m\u001b[39m.\u001b[39m_lock\u001b[39m.\u001b[39mrelease()\n\u001b[0;32m    924\u001b[0m   \u001b[39m# In this case we have created variables on the first call, so we run the\u001b[39;00m\n\u001b[0;32m    925\u001b[0m   \u001b[39m# defunned version which is guaranteed to never create variables.\u001b[39;00m\n\u001b[1;32m--> 926\u001b[0m   \u001b[39mreturn\u001b[39;00m \u001b[39mself\u001b[39;49m\u001b[39m.\u001b[39;49m_no_variable_creation_fn(\u001b[39m*\u001b[39;49margs, \u001b[39m*\u001b[39;49m\u001b[39m*\u001b[39;49mkwds)  \u001b[39m# pylint: disable=not-callable\u001b[39;00m\n\u001b[0;32m    927\u001b[0m \u001b[39melif\u001b[39;00m \u001b[39mself\u001b[39m\u001b[39m.\u001b[39m_variable_creation_fn \u001b[39mis\u001b[39;00m \u001b[39mnot\u001b[39;00m \u001b[39mNone\u001b[39;00m:\n\u001b[0;32m    928\u001b[0m   \u001b[39m# Release the lock early so that multiple threads can perform the call\u001b[39;00m\n\u001b[0;32m    929\u001b[0m   \u001b[39m# in parallel.\u001b[39;00m\n\u001b[0;32m    930\u001b[0m   \u001b[39mself\u001b[39m\u001b[39m.\u001b[39m_lock\u001b[39m.\u001b[39mrelease()\n",
      "File \u001b[1;32m~\\AppData\\Roaming\\Python\\Python311\\site-packages\\tensorflow\\python\\eager\\polymorphic_function\\tracing_compiler.py:143\u001b[0m, in \u001b[0;36mTracingCompiler.__call__\u001b[1;34m(self, *args, **kwargs)\u001b[0m\n\u001b[0;32m    140\u001b[0m \u001b[39mwith\u001b[39;00m \u001b[39mself\u001b[39m\u001b[39m.\u001b[39m_lock:\n\u001b[0;32m    141\u001b[0m   (concrete_function,\n\u001b[0;32m    142\u001b[0m    filtered_flat_args) \u001b[39m=\u001b[39m \u001b[39mself\u001b[39m\u001b[39m.\u001b[39m_maybe_define_function(args, kwargs)\n\u001b[1;32m--> 143\u001b[0m \u001b[39mreturn\u001b[39;00m concrete_function\u001b[39m.\u001b[39;49m_call_flat(\n\u001b[0;32m    144\u001b[0m     filtered_flat_args, captured_inputs\u001b[39m=\u001b[39;49mconcrete_function\u001b[39m.\u001b[39;49mcaptured_inputs)\n",
      "File \u001b[1;32m~\\AppData\\Roaming\\Python\\Python311\\site-packages\\tensorflow\\python\\eager\\polymorphic_function\\monomorphic_function.py:1757\u001b[0m, in \u001b[0;36mConcreteFunction._call_flat\u001b[1;34m(self, args, captured_inputs, cancellation_manager)\u001b[0m\n\u001b[0;32m   1753\u001b[0m possible_gradient_type \u001b[39m=\u001b[39m gradients_util\u001b[39m.\u001b[39mPossibleTapeGradientTypes(args)\n\u001b[0;32m   1754\u001b[0m \u001b[39mif\u001b[39;00m (possible_gradient_type \u001b[39m==\u001b[39m gradients_util\u001b[39m.\u001b[39mPOSSIBLE_GRADIENT_TYPES_NONE\n\u001b[0;32m   1755\u001b[0m     \u001b[39mand\u001b[39;00m executing_eagerly):\n\u001b[0;32m   1756\u001b[0m   \u001b[39m# No tape is watching; skip to running the function.\u001b[39;00m\n\u001b[1;32m-> 1757\u001b[0m   \u001b[39mreturn\u001b[39;00m \u001b[39mself\u001b[39m\u001b[39m.\u001b[39m_build_call_outputs(\u001b[39mself\u001b[39;49m\u001b[39m.\u001b[39;49m_inference_function\u001b[39m.\u001b[39;49mcall(\n\u001b[0;32m   1758\u001b[0m       ctx, args, cancellation_manager\u001b[39m=\u001b[39;49mcancellation_manager))\n\u001b[0;32m   1759\u001b[0m forward_backward \u001b[39m=\u001b[39m \u001b[39mself\u001b[39m\u001b[39m.\u001b[39m_select_forward_and_backward_functions(\n\u001b[0;32m   1760\u001b[0m     args,\n\u001b[0;32m   1761\u001b[0m     possible_gradient_type,\n\u001b[0;32m   1762\u001b[0m     executing_eagerly)\n\u001b[0;32m   1763\u001b[0m forward_function, args_with_tangents \u001b[39m=\u001b[39m forward_backward\u001b[39m.\u001b[39mforward()\n",
      "File \u001b[1;32m~\\AppData\\Roaming\\Python\\Python311\\site-packages\\tensorflow\\python\\eager\\polymorphic_function\\monomorphic_function.py:381\u001b[0m, in \u001b[0;36m_EagerDefinedFunction.call\u001b[1;34m(self, ctx, args, cancellation_manager)\u001b[0m\n\u001b[0;32m    379\u001b[0m \u001b[39mwith\u001b[39;00m _InterpolateFunctionError(\u001b[39mself\u001b[39m):\n\u001b[0;32m    380\u001b[0m   \u001b[39mif\u001b[39;00m cancellation_manager \u001b[39mis\u001b[39;00m \u001b[39mNone\u001b[39;00m:\n\u001b[1;32m--> 381\u001b[0m     outputs \u001b[39m=\u001b[39m execute\u001b[39m.\u001b[39;49mexecute(\n\u001b[0;32m    382\u001b[0m         \u001b[39mstr\u001b[39;49m(\u001b[39mself\u001b[39;49m\u001b[39m.\u001b[39;49msignature\u001b[39m.\u001b[39;49mname),\n\u001b[0;32m    383\u001b[0m         num_outputs\u001b[39m=\u001b[39;49m\u001b[39mself\u001b[39;49m\u001b[39m.\u001b[39;49m_num_outputs,\n\u001b[0;32m    384\u001b[0m         inputs\u001b[39m=\u001b[39;49margs,\n\u001b[0;32m    385\u001b[0m         attrs\u001b[39m=\u001b[39;49mattrs,\n\u001b[0;32m    386\u001b[0m         ctx\u001b[39m=\u001b[39;49mctx)\n\u001b[0;32m    387\u001b[0m   \u001b[39melse\u001b[39;00m:\n\u001b[0;32m    388\u001b[0m     outputs \u001b[39m=\u001b[39m execute\u001b[39m.\u001b[39mexecute_with_cancellation(\n\u001b[0;32m    389\u001b[0m         \u001b[39mstr\u001b[39m(\u001b[39mself\u001b[39m\u001b[39m.\u001b[39msignature\u001b[39m.\u001b[39mname),\n\u001b[0;32m    390\u001b[0m         num_outputs\u001b[39m=\u001b[39m\u001b[39mself\u001b[39m\u001b[39m.\u001b[39m_num_outputs,\n\u001b[1;32m   (...)\u001b[0m\n\u001b[0;32m    393\u001b[0m         ctx\u001b[39m=\u001b[39mctx,\n\u001b[0;32m    394\u001b[0m         cancellation_manager\u001b[39m=\u001b[39mcancellation_manager)\n",
      "File \u001b[1;32m~\\AppData\\Roaming\\Python\\Python311\\site-packages\\tensorflow\\python\\eager\\execute.py:52\u001b[0m, in \u001b[0;36mquick_execute\u001b[1;34m(op_name, num_outputs, inputs, attrs, ctx, name)\u001b[0m\n\u001b[0;32m     50\u001b[0m \u001b[39mtry\u001b[39;00m:\n\u001b[0;32m     51\u001b[0m   ctx\u001b[39m.\u001b[39mensure_initialized()\n\u001b[1;32m---> 52\u001b[0m   tensors \u001b[39m=\u001b[39m pywrap_tfe\u001b[39m.\u001b[39;49mTFE_Py_Execute(ctx\u001b[39m.\u001b[39;49m_handle, device_name, op_name,\n\u001b[0;32m     53\u001b[0m                                       inputs, attrs, num_outputs)\n\u001b[0;32m     54\u001b[0m \u001b[39mexcept\u001b[39;00m core\u001b[39m.\u001b[39m_NotOkStatusException \u001b[39mas\u001b[39;00m e:\n\u001b[0;32m     55\u001b[0m   \u001b[39mif\u001b[39;00m name \u001b[39mis\u001b[39;00m \u001b[39mnot\u001b[39;00m \u001b[39mNone\u001b[39;00m:\n",
      "\u001b[1;31mKeyboardInterrupt\u001b[0m: "
     ]
    }
   ],
   "source": [
    "# import tensorflow as tf\n",
    "# import numpy as np\n",
    "# from tensorflow.keras.layers import Embedding, LSTM, Dense, Dropout\n",
    "# from tensorflow.keras.preprocessing.sequence import pad_sequences\n",
    "# from tensorflow.keras.models import Sequential\n",
    "# from tensorflow.keras.preprocessing.text import one_hot\n",
    "# from sklearn.model_selection import train_test_split\n",
    "# from sklearn.metrics import accuracy_score\n",
    "\n",
    "# # Define hyperparameters for grid search\n",
    "# voc_size = [1000, 2000, 3000]  # Vocabulary size\n",
    "# sentence_len = [20, 30, 40]  # Maximum sentence length\n",
    "# embedding_vec_feature = [50, 100, 150]  # Dimensionality of word embeddings\n",
    "\n",
    "# # Perform grid search\n",
    "# best_accuracy = 0.0\n",
    "# best_params = {}\n",
    "\n",
    "# for vs in voc_size:\n",
    "#     for sl in sentence_len:\n",
    "#         for evf in embedding_vec_feature:\n",
    "#             onehot_repr = [one_hot(words, vs) for words in X['preprocessed_text']]\n",
    "#             embedded_doc = pad_sequences(onehot_repr, padding='pre', maxlen=sl)\n",
    "            \n",
    "#             model = Sequential()\n",
    "#             model.add(Embedding(vs, evf, input_length=sl))\n",
    "#             model.add(Dropout(0.6))\n",
    "#             model.add(LSTM(100))\n",
    "#             model.add(Dense(1, activation='sigmoid'))\n",
    "#             model.compile(loss='binary_crossentropy', optimizer='adam', metrics=['accuracy'])\n",
    "            \n",
    "#             X_f = np.array(embedded_doc)\n",
    "#             y_f = np.array(y)\n",
    "            \n",
    "#             X_train, X_test, y_train, y_test = train_test_split(X_f, y_f, test_size=0.2, random_state=42)\n",
    "            \n",
    "#             model.fit(X_train, y_train, validation_data=(X_test, y_test), epochs=5, batch_size=64, verbose=0)\n",
    "            \n",
    "#             y_pred_prob = model.predict(X_test)\n",
    "#             y_pred = np.round(y_pred_prob).astype(int)\n",
    "#             accuracy = accuracy_score(y_test, y_pred)\n",
    "            \n",
    "#             print(f\"voc_size={vs}, sentence_len={sl}, embedding_vec_feature={evf}: Accuracy = {accuracy}\")\n",
    "            \n",
    "#             if accuracy > best_accuracy:\n",
    "#                 best_accuracy = accuracy\n",
    "#                 best_params = {'voc_size': vs, 'sentence_len': sl, 'embedding_vec_feature': evf}\n",
    "\n",
    "# # Print best parameters\n",
    "# print(\"Best Parameters:\", best_params)\n"
   ]
  }
 ],
 "metadata": {
  "kernelspec": {
   "display_name": "venv",
   "language": "python",
   "name": "python3"
  },
  "language_info": {
   "codemirror_mode": {
    "name": "ipython",
    "version": 3
   },
   "file_extension": ".py",
   "mimetype": "text/x-python",
   "name": "python",
   "nbconvert_exporter": "python",
   "pygments_lexer": "ipython3",
   "version": "3.11.0"
  },
  "orig_nbformat": 4
 },
 "nbformat": 4,
 "nbformat_minor": 2
}
