{
 "cells": [
  {
   "cell_type": "code",
   "execution_count": 4,
   "metadata": {},
   "outputs": [],
   "source": [
    "import pandas as pd\n",
    "from Preprocess import * \n",
    "from plotting import *\n",
    "from tqdm import tqdm "
   ]
  },
  {
   "cell_type": "code",
   "execution_count": 11,
   "metadata": {},
   "outputs": [
    {
     "name": "stdout",
     "output_type": "stream",
     "text": [
      "1    2523\n",
      "0    2477\n",
      "Name: label, dtype: int64\n",
      "(5000, 2)\n",
      "(5000,)\n"
     ]
    }
   ],
   "source": [
    "df = pd.read_csv('data/WELFake_Dataset.csv')\n",
    "\n",
    "df.drop(df.columns[0], axis=1, inplace=True)\n",
    "df.dropna(inplace=True)\n",
    "\n",
    "df = df.sample(n=5000, random_state=42)\n",
    "\n",
    "print(df['label'].value_counts())\n",
    "\n",
    "X=df.drop(['label'],axis=1)\n",
    "y=df['label']\n",
    "print(X.shape)\n",
    "print(y.shape)"
   ]
  },
  {
   "cell_type": "code",
   "execution_count": 3,
   "metadata": {},
   "outputs": [],
   "source": [
    "# df = pd.read_csv('data/news_articles.csv')\n",
    "\n",
    "# df.dropna(inplace=True)\n",
    "# df.drop(df[df['language'] != 'english'].index,inplace=True)\n",
    "# df=df.drop(['published','main_img_url','type','language','title_without_stopwords','text_without_stopwords'],axis=1)\n",
    "\n",
    "\n",
    "# print(df['label'].value_counts())\n",
    "\n",
    "# X=df.drop(['label'],axis=1)\n",
    "# y=df['label']\n",
    "# print(X.shape)\n",
    "# print(y.shape)\n"
   ]
  },
  {
   "cell_type": "code",
   "execution_count": 3,
   "metadata": {},
   "outputs": [
    {
     "data": {
      "text/html": [
       "<div>\n",
       "<style scoped>\n",
       "    .dataframe tbody tr th:only-of-type {\n",
       "        vertical-align: middle;\n",
       "    }\n",
       "\n",
       "    .dataframe tbody tr th {\n",
       "        vertical-align: top;\n",
       "    }\n",
       "\n",
       "    .dataframe thead th {\n",
       "        text-align: right;\n",
       "    }\n",
       "</style>\n",
       "<table border=\"1\" class=\"dataframe\">\n",
       "  <thead>\n",
       "    <tr style=\"text-align: right;\">\n",
       "      <th></th>\n",
       "      <th>title</th>\n",
       "      <th>text</th>\n",
       "    </tr>\n",
       "  </thead>\n",
       "  <tbody>\n",
       "    <tr>\n",
       "      <th>54359</th>\n",
       "      <td>Live at Truthdig: Robert Scheer and Thomas Fra...</td>\n",
       "      <td>Live at Truthdig: Robert Scheer and Thomas Fra...</td>\n",
       "    </tr>\n",
       "    <tr>\n",
       "      <th>6993</th>\n",
       "      <td>The Mirage of a Return to Manufacturing Greatn...</td>\n",
       "      <td>Half a century ago, harvesting California’s 2....</td>\n",
       "    </tr>\n",
       "    <tr>\n",
       "      <th>28912</th>\n",
       "      <td>British PM expected to offer to fill post-Brex...</td>\n",
       "      <td>(Reuters) - The British government has told Ge...</td>\n",
       "    </tr>\n",
       "    <tr>\n",
       "      <th>65965</th>\n",
       "      <td>Checkmating Obama</td>\n",
       "      <td>Originally published by the Jerusalem Post . \\...</td>\n",
       "    </tr>\n",
       "    <tr>\n",
       "      <th>2307</th>\n",
       "      <td>Thirty-eight injured in police charges in Cata...</td>\n",
       "      <td>MADRID (Reuters) - Emergency services have att...</td>\n",
       "    </tr>\n",
       "  </tbody>\n",
       "</table>\n",
       "</div>"
      ],
      "text/plain": [
       "                                                   title  \\\n",
       "54359  Live at Truthdig: Robert Scheer and Thomas Fra...   \n",
       "6993   The Mirage of a Return to Manufacturing Greatn...   \n",
       "28912  British PM expected to offer to fill post-Brex...   \n",
       "65965                                  Checkmating Obama   \n",
       "2307   Thirty-eight injured in police charges in Cata...   \n",
       "\n",
       "                                                    text  \n",
       "54359  Live at Truthdig: Robert Scheer and Thomas Fra...  \n",
       "6993   Half a century ago, harvesting California’s 2....  \n",
       "28912  (Reuters) - The British government has told Ge...  \n",
       "65965  Originally published by the Jerusalem Post . \\...  \n",
       "2307   MADRID (Reuters) - Emergency services have att...  "
      ]
     },
     "execution_count": 3,
     "metadata": {},
     "output_type": "execute_result"
    }
   ],
   "source": [
    "X.head()"
   ]
  },
  {
   "cell_type": "code",
   "execution_count": 12,
   "metadata": {},
   "outputs": [
    {
     "data": {
      "image/png": "[encoded data removed]",
      "text/plain": [
       "<Figure size 300x300 with 1 Axes>"
      ]
     },
     "metadata": {},
     "output_type": "display_data"
    }
   ],
   "source": [
    "import matplotlib.pyplot as plt\n",
    "\n",
    "label_counts = y.value_counts()\n",
    "\n",
    "plt.figure(figsize=(3, 3))\n",
    "plt.pie(label_counts, labels=label_counts.index, autopct='%1.1f%%', startangle=90)\n",
    "plt.axis('equal')\n",
    "plt.title('Label Distribution')\n",
    "plt.show()\n"
   ]
  },
  {
   "cell_type": "code",
   "execution_count": 13,
   "metadata": {},
   "outputs": [
    {
     "name": "stdout",
     "output_type": "stream",
     "text": [
      "54359    live truthdig robert scheer thomas frank talk ...\n",
      "6993     half century ago harvesting california million...\n",
      "28912    reuters british government told german chancel...\n",
      "Name: preprocessed_text, dtype: object\n"
     ]
    }
   ],
   "source": [
    "X['preprocessed_text'] = preprocess_text(X['text'])\n",
    "print(X['preprocessed_text'].head(3))"
   ]
  },
  {
   "cell_type": "code",
   "execution_count": 7,
   "metadata": {},
   "outputs": [
    {
     "name": "stderr",
     "output_type": "stream",
     "text": [
      "100%|██████████| 4/4 [00:30<00:00,  7.59s/it]\n",
      " 50%|█████     | 1/2 [00:31<00:31, 31.04s/it]"
     ]
    },
    {
     "name": "stdout",
     "output_type": "stream",
     "text": [
      "(1, 1)-gram\n",
      "LogisticRegression: [0.912, 0.9094567404426559, 0.9131313131313131, 0.9112903225806452]\n",
      "MultinomialNB: [0.854, 0.8921348314606742, 0.802020202020202, 0.8446808510638297]\n",
      "RandomForestClassifier: [0.885, 0.897489539748954, 0.8666666666666667, 0.881808838643371]\n",
      "SVC: [0.916, 0.9101796407185628, 0.9212121212121213, 0.9156626506024097]\n"
     ]
    },
    {
     "name": "stderr",
     "output_type": "stream",
     "text": [
      "100%|██████████| 4/4 [01:23<00:00, 20.95s/it]\n",
      "100%|██████████| 2/2 [01:57<00:00, 58.66s/it]"
     ]
    },
    {
     "name": "stdout",
     "output_type": "stream",
     "text": [
      "(2, 2)-gram\n",
      "LogisticRegression: [0.889, 0.8824701195219123, 0.8949494949494949, 0.8886659979939819]\n",
      "MultinomialNB: [0.874, 0.9382422802850356, 0.797979797979798, 0.8624454148471615]\n",
      "RandomForestClassifier: [0.875, 0.8530534351145038, 0.9030303030303031, 0.8773307163886164]\n",
      "SVC: [0.889, 0.8779527559055118, 0.901010101010101, 0.8893320039880358]\n"
     ]
    },
    {
     "name": "stderr",
     "output_type": "stream",
     "text": [
      "\n"
     ]
    }
   ],
   "source": [
    "from sklearn.ensemble import RandomForestClassifier\n",
    "from sklearn.linear_model import LogisticRegression\n",
    "from sklearn.naive_bayes import MultinomialNB\n",
    "from sklearn.svm import SVC\n",
    "from sklearn.metrics import accuracy_score, precision_score, recall_score, f1_score\n",
    "from sklearn.feature_extraction.text import TfidfVectorizer\n",
    "from sklearn.model_selection import train_test_split\n",
    "\n",
    "X_train, X_test, y_train, y_test = train_test_split(X['preprocessed_text'], y, test_size=0.2, random_state=42)\n",
    "\n",
    "ngram_ranges = [(1, 1), (2, 2)]\n",
    "\n",
    "classifiers = [\n",
    "    LogisticRegression(),\n",
    "    MultinomialNB(),\n",
    "    RandomForestClassifier(),\n",
    "    SVC()\n",
    "]\n",
    "\n",
    "for ngram_range in tqdm(ngram_ranges):\n",
    "    metrics_dict = {}\n",
    "    vectorizer = TfidfVectorizer(ngram_range=ngram_range)\n",
    "    X_train_tfidf = vectorizer.fit_transform(X_train)\n",
    "    X_test_tfidf = vectorizer.transform(X_test)\n",
    "\n",
    "    for classifier in tqdm(classifiers):\n",
    "        classifier_name = classifier.__class__.__name__\n",
    "        classifier_metrics = []\n",
    "\n",
    "        classifier.fit(X_train_tfidf, y_train)\n",
    "        y_pred = classifier.predict(X_test_tfidf)\n",
    "\n",
    "        accuracy = accuracy_score(y_test, y_pred)\n",
    "        precision = precision_score(y_test, y_pred)\n",
    "        recall = recall_score(y_test, y_pred)\n",
    "        f1 = f1_score(y_test, y_pred)\n",
    "        classifier_metrics.extend([accuracy, precision, recall, f1])\n",
    "        metrics_dict[classifier_name] = classifier_metrics\n",
    "\n",
    "    print(f\"{ngram_range}-gram\")\n",
    "    for classifier_name, classifier_metrics in metrics_dict.items():\n",
    "        print(f\"{classifier_name}: {classifier_metrics}\")\n"
   ]
  },
  {
   "cell_type": "code",
   "execution_count": 6,
   "metadata": {},
   "outputs": [
    {
     "data": {
      "image/png": "[encoded data removed]",
      "text/plain": [
       "<Figure size 640x480 with 1 Axes>"
      ]
     },
     "metadata": {},
     "output_type": "display_data"
    }
   ],
   "source": [
    "# plot_accuracy_graph([\"LR\",\"NB\",\"RF\",\"SVM\"],[0.912,0.854,0.897,0.916])\n",
    "metrics([0.912,0.854,0.897,0.916],[0.909,0.892,0.897,0.910],[0.913,0.802,0.866,0.921],[0.911,0.844,0.88,0.915])"
   ]
  },
  {
   "cell_type": "code",
   "execution_count": 7,
   "metadata": {},
   "outputs": [
    {
     "name": "stdout",
     "output_type": "stream",
     "text": [
      "(1, 1)-gram\n",
      "LogisticRegression: [(0.891, 0.870168418334029, 0.9218951513149772, 0.8951432785555378), (0.8512000000000001, 0.7983347082640367, 0.9432239842399367, 0.8646673582714428)]\n",
      "MultinomialNB: [(0.8257999999999999, 0.8639549846202323, 0.7783824113764803, 0.8183396231943803), (0.85, 0.8938842893978854, 0.7978517803562755, 0.8429899560975471)]\n",
      "RandomForestClassifier: [(0.8837999999999999, 0.8871408238802927, 0.882348785439597, 0.8846101055204272), (0.8644000000000001, 0.8174796074963074, 0.9415056020473432, 0.8750712550481815)]\n",
      "SVC: [(0.9004, 0.8805025686954095, 0.9290279446445565, 0.904017103142418), (0.8538, 0.8001847988425123, 0.9464092399220266, 0.8670952031870097)]\n",
      "(2, 2)-gram\n",
      "LogisticRegression: [(0.891, 0.870168418334029, 0.9218951513149772, 0.8951432785555378), (0.8512000000000001, 0.7983347082640367, 0.9432239842399367, 0.8646673582714428)]\n",
      "MultinomialNB: [(0.8257999999999999, 0.8639549846202323, 0.7783824113764803, 0.8183396231943803), (0.85, 0.8938842893978854, 0.7978517803562755, 0.8429899560975471)]\n",
      "RandomForestClassifier: [(0.8837999999999999, 0.8871408238802927, 0.882348785439597, 0.8846101055204272), (0.8644000000000001, 0.8174796074963074, 0.9415056020473432, 0.8750712550481815)]\n",
      "SVC: [(0.9004, 0.8805025686954095, 0.9290279446445565, 0.904017103142418), (0.8538, 0.8001847988425123, 0.9464092399220266, 0.8670952031870097)]\n"
     ]
    }
   ],
   "source": [
    "import numpy as np\n",
    "from sklearn.ensemble import RandomForestClassifier\n",
    "from sklearn.linear_model import LogisticRegression\n",
    "from sklearn.naive_bayes import MultinomialNB\n",
    "from sklearn.svm import SVC\n",
    "from sklearn.metrics import accuracy_score, precision_score, recall_score, f1_score\n",
    "from sklearn.feature_extraction.text import TfidfVectorizer\n",
    "from sklearn.model_selection import KFold\n",
    "\n",
    "X_k = X['preprocessed_text']\n",
    "y_k = np.array(y)\n",
    "\n",
    "ngram_ranges = [(1, 1), (2, 2)]\n",
    "\n",
    "classifiers = [\n",
    "    LogisticRegression(max_iter=1000),\n",
    "    MultinomialNB(),\n",
    "    RandomForestClassifier(),\n",
    "    SVC()\n",
    "]\n",
    "\n",
    "kf = KFold(n_splits=5, shuffle=True, random_state=42)\n",
    "\n",
    "metrics_dict = {}\n",
    "\n",
    "for classifier in classifiers:\n",
    "    classifier_name = classifier.__class__.__name__\n",
    "    classifier_metrics = []\n",
    "\n",
    "    for ngram_range in ngram_ranges:\n",
    "        vectorizer = TfidfVectorizer(ngram_range=ngram_range)\n",
    "        X_tfidf = vectorizer.fit_transform(X_k)\n",
    "\n",
    "        accuracies = []\n",
    "        precisions = []\n",
    "        recalls = []\n",
    "        f1_scores = []\n",
    "\n",
    "        for train_index, test_index in kf.split(X_tfidf):\n",
    "            X_train, X_test = X_tfidf[train_index], X_tfidf[test_index]\n",
    "            y_train, y_test = y_k[train_index], y_k[test_index]\n",
    "\n",
    "            classifier.fit(X_train, y_train)\n",
    "            y_pred = classifier.predict(X_test)\n",
    "\n",
    "            accuracy = accuracy_score(y_test, y_pred)\n",
    "            precision = precision_score(y_test, y_pred)\n",
    "            recall = recall_score(y_test, y_pred)\n",
    "            f1 = f1_score(y_test, y_pred)\n",
    "\n",
    "            accuracies.append(accuracy)\n",
    "            precisions.append(precision)\n",
    "            recalls.append(recall)\n",
    "            f1_scores.append(f1)\n",
    "\n",
    "        mean_accuracy = np.mean(accuracies)\n",
    "        mean_precision = np.mean(precisions)\n",
    "        mean_recall = np.mean(recalls)\n",
    "        mean_f1 = np.mean(f1_scores)\n",
    "\n",
    "        classifier_metrics.append((mean_accuracy, mean_precision, mean_recall, mean_f1))\n",
    "\n",
    "    metrics_dict[classifier_name] = classifier_metrics\n",
    "\n",
    "for ngram_range in ngram_ranges:\n",
    "    print(f\"{ngram_range}-gram\")\n",
    "    for classifier_name, classifier_metrics in metrics_dict.items():\n",
    "        print(f\"{classifier_name}: {classifier_metrics}\")\n"
   ]
  },
  {
   "cell_type": "code",
   "execution_count": 9,
   "metadata": {},
   "outputs": [
    {
     "data": {
      "image/png": "[encoded data removed]",
      "text/plain": [
       "<Figure size 640x480 with 1 Axes>"
      ]
     },
     "metadata": {},
     "output_type": "display_data"
    }
   ],
   "source": [
    "metrics([0.891,0.825,0.883,0.900],[0.870,0.863,0.887,0.929],[0.904,0.882,0.778,0.921],[0.895,0.818,0.884,0.904])"
   ]
  },
  {
   "cell_type": "code",
   "execution_count": 11,
   "metadata": {},
   "outputs": [
    {
     "name": "stdout",
     "output_type": "stream",
     "text": [
      "n-gram range (1, 1):\n",
      "LogisticRegression: [0.842, 0.8431771894093686, 0.8363636363636363, 0.8397565922920891]\n",
      "RandomForestClassifier: [0.843, 0.83399209486166, 0.8525252525252526, 0.8431568431568431]\n",
      "SVC: [0.861, 0.8531746031746031, 0.8686868686868687, 0.8608608608608609]\n",
      "n-gram range (2, 2):\n",
      "LogisticRegression: [0.842, 0.8431771894093686, 0.8363636363636363, 0.8397565922920891]\n",
      "RandomForestClassifier: [0.853, 0.8411764705882353, 0.8666666666666667, 0.853731343283582]\n",
      "SVC: [0.861, 0.8531746031746031, 0.8686868686868687, 0.8608608608608609]\n"
     ]
    }
   ],
   "source": [
    "from gensim.models import Word2Vec\n",
    "from sklearn.ensemble import RandomForestClassifier\n",
    "from sklearn.linear_model import LogisticRegression\n",
    "from sklearn.svm import SVC\n",
    "from sklearn.metrics import accuracy_score, precision_score, recall_score, f1_score\n",
    "from sklearn.model_selection import train_test_split\n",
    "from sklearn import preprocessing\n",
    "import numpy as np\n",
    "\n",
    "sentences = [text.split() for text in X['preprocessed_text']]\n",
    "word2vec_model = Word2Vec(sentences, min_count=1, vector_size=100)\n",
    "\n",
    "X_train, X_test, y_train, y_test = train_test_split(sentences, y, test_size=0.2, random_state=42)\n",
    "\n",
    "ngram_ranges = [(1, 1), (2, 2)]\n",
    "\n",
    "classifiers = [\n",
    "    LogisticRegression(max_iter=1000),\n",
    "    RandomForestClassifier(),\n",
    "    SVC()\n",
    "]\n",
    "\n",
    "metrics_dict = {}\n",
    "\n",
    "for ngram_range in ngram_ranges:\n",
    "    ngram_metrics = {}\n",
    "    \n",
    "    X_train_word_vectors = np.array([np.mean([word2vec_model.wv[w] for w in words if w in word2vec_model.wv] or [np.zeros(100)], axis=0) for words in X_train])\n",
    "    X_test_word_vectors = np.array([np.mean([word2vec_model.wv[w] for w in words if w in word2vec_model.wv] or [np.zeros(100)], axis=0) for words in X_test])\n",
    "    \n",
    "    X_train_normalized = preprocessing.normalize(X_train_word_vectors, norm='l2')\n",
    "    X_test_normalized = preprocessing.normalize(X_test_word_vectors, norm='l2')\n",
    "\n",
    "    for classifier in classifiers:\n",
    "        classifier_name = classifier.__class__.__name__\n",
    "        classifier_metrics = []\n",
    "\n",
    "        classifier.fit(X_train_normalized, y_train)\n",
    "        y_pred = classifier.predict(X_test_normalized)\n",
    "\n",
    "        accuracy = accuracy_score(y_test, y_pred)\n",
    "        precision = precision_score(y_test, y_pred)\n",
    "        recall = recall_score(y_test, y_pred)\n",
    "        f1 = f1_score(y_test, y_pred)\n",
    "\n",
    "        classifier_metrics.extend([accuracy, precision, recall, f1])\n",
    "        ngram_metrics[classifier_name] = classifier_metrics\n",
    "\n",
    "    metrics_dict[ngram_range] = ngram_metrics\n",
    "\n",
    "for ngram_range, ngram_metrics in metrics_dict.items():\n",
    "    print(f\"n-gram range {ngram_range}:\")\n",
    "    for classifier_name, classifier_metrics in ngram_metrics.items():\n",
    "        print(f\"{classifier_name}: {classifier_metrics}\")\n"
   ]
  },
  {
   "cell_type": "code",
   "execution_count": 9,
   "metadata": {},
   "outputs": [
    {
     "data": {
      "image/png": "[encoded data removed]",
      "text/plain": [
       "<Figure size 640x480 with 1 Axes>"
      ]
     },
     "metadata": {},
     "output_type": "display_data"
    }
   ],
   "source": [
    "metrics2([0.842,0.843,0.86],[0.843,0.833,0.853],[0.836,0.852,0.868],[0.839,0.843,0.860])"
   ]
  },
  {
   "cell_type": "code",
   "execution_count": 15,
   "metadata": {},
   "outputs": [
    {
     "name": "stdout",
     "output_type": "stream",
     "text": [
      "Model: \"sequential_1\"\n",
      "_________________________________________________________________\n",
      " Layer (type)                Output Shape              Param #   \n",
      "=================================================================\n",
      " embedding_1 (Embedding)     (None, 40, 150)           450000    \n",
      "                                                                 \n",
      " dropout_1 (Dropout)         (None, 40, 150)           0         \n",
      "                                                                 \n",
      " lstm_1 (LSTM)               (None, 100)               100400    \n",
      "                                                                 \n",
      " dense_1 (Dense)             (None, 1)                 101       \n",
      "                                                                 \n",
      "=================================================================\n",
      "Total params: 550,501\n",
      "Trainable params: 550,501\n",
      "Non-trainable params: 0\n",
      "_________________________________________________________________\n",
      "None\n",
      "(5000, 40)\n",
      "(5000,)\n",
      "Epoch 1/10\n",
      "63/63 [==============================] - 10s 108ms/step - loss: 0.5315 - accuracy: 0.7418 - val_loss: 0.3849 - val_accuracy: 0.8480\n",
      "Epoch 2/10\n",
      "63/63 [==============================] - 7s 109ms/step - loss: 0.2759 - accuracy: 0.8882 - val_loss: 0.3328 - val_accuracy: 0.8630\n",
      "Epoch 3/10\n",
      "63/63 [==============================] - 7s 108ms/step - loss: 0.1803 - accuracy: 0.9323 - val_loss: 0.3454 - val_accuracy: 0.8660\n",
      "Epoch 4/10\n",
      "63/63 [==============================] - 6s 92ms/step - loss: 0.1272 - accuracy: 0.9603 - val_loss: 0.4215 - val_accuracy: 0.8480\n",
      "Epoch 5/10\n",
      "63/63 [==============================] - 7s 105ms/step - loss: 0.0822 - accuracy: 0.9745 - val_loss: 0.5155 - val_accuracy: 0.8400\n",
      "Epoch 6/10\n",
      "63/63 [==============================] - 8s 121ms/step - loss: 0.0499 - accuracy: 0.9845 - val_loss: 0.4918 - val_accuracy: 0.8440\n",
      "Epoch 7/10\n",
      "63/63 [==============================] - 7s 104ms/step - loss: 0.0400 - accuracy: 0.9885 - val_loss: 0.5718 - val_accuracy: 0.8440\n",
      "Epoch 8/10\n",
      "63/63 [==============================] - 6s 97ms/step - loss: 0.0313 - accuracy: 0.9908 - val_loss: 0.7071 - val_accuracy: 0.8330\n",
      "Epoch 9/10\n",
      "63/63 [==============================] - 6s 98ms/step - loss: 0.0144 - accuracy: 0.9970 - val_loss: 0.7042 - val_accuracy: 0.8250\n",
      "Epoch 10/10\n",
      "63/63 [==============================] - 6s 102ms/step - loss: 0.0141 - accuracy: 0.9962 - val_loss: 0.7462 - val_accuracy: 0.8320\n"
     ]
    },
    {
     "data": {
      "text/plain": [
       "<keras.callbacks.History at 0x2088302ab30>"
      ]
     },
     "execution_count": 15,
     "metadata": {},
     "output_type": "execute_result"
    }
   ],
   "source": [
    "import tensorflow as tf\n",
    "import numpy as np\n",
    "\n",
    "from tensorflow.keras.layers import Embedding\n",
    "from tensorflow.keras.preprocessing.sequence import pad_sequences\n",
    "from tensorflow.keras.models import Sequential\n",
    "from tensorflow.keras.preprocessing.text import one_hot\n",
    "from tensorflow.keras.layers import LSTM\n",
    "from tensorflow.keras.layers import Dense\n",
    "from tensorflow.keras.layers import Dropout\n",
    "\n",
    "from sklearn.model_selection import train_test_split\n",
    "\n",
    "voc_size=3000\n",
    "onehot_repr=[one_hot(words,voc_size)for words in X['preprocessed_text']]\n",
    "\n",
    "sentence_len=40\n",
    "embedded_doc = pad_sequences(onehot_repr,padding='pre',maxlen=sentence_len)\n",
    "\n",
    "embedding_vec_feature=150\n",
    "model=Sequential()\n",
    "model.add(Embedding(voc_size,embedding_vec_feature,input_length=sentence_len))\n",
    "model.add(Dropout(0.5))\n",
    "model.add(LSTM(100))\n",
    "model.add(Dense(1,activation='sigmoid'))\n",
    "model.compile(loss='binary_crossentropy',optimizer='adam',metrics=['accuracy'])\n",
    "print(model.summary())\n",
    "\n",
    "\n",
    "\n",
    "\n",
    "X_f=np.array(embedded_doc)\n",
    "y_f=np.array(y)\n",
    "print(X_f.shape)\n",
    "print(y_f.shape)\n",
    "\n",
    "\n",
    "X_train, X_test, y_train, y_test = train_test_split(X_f, y_f, test_size=0.2, random_state=42)\n",
    "\n",
    "model.fit(X_train,y_train,validation_data=(X_test,y_test),epochs=10,batch_size=64)\n",
    "\n"
   ]
  },
  {
   "cell_type": "code",
   "execution_count": null,
   "metadata": {},
   "outputs": [],
   "source": [
    "# import tensorflow as tf\n",
    "# import numpy as np\n",
    "# from tensorflow.keras.layers import Embedding, LSTM, Dense, Dropout\n",
    "# from tensorflow.keras.preprocessing.sequence import pad_sequences\n",
    "# from tensorflow.keras.models import Sequential\n",
    "# from tensorflow.keras.preprocessing.text import one_hot\n",
    "# from sklearn.model_selection import train_test_split\n",
    "# from sklearn.metrics import accuracy_score\n",
    "\n",
    "# # Define hyperparameters for grid search\n",
    "# voc_size = [1000, 2000, 3000]  # Vocabulary size\n",
    "# sentence_len = [20, 30, 40]  # Maximum sentence length\n",
    "# embedding_vec_feature = [50, 100, 150]  # Dimensionality of word embeddings\n",
    "\n",
    "# # Perform grid search\n",
    "# best_accuracy = 0.0\n",
    "# best_params = {}\n",
    "\n",
    "# for vs in voc_size:\n",
    "#     for sl in sentence_len:\n",
    "#         for evf in embedding_vec_feature:\n",
    "#             onehot_repr = [one_hot(words, vs) for words in X['preprocessed_text']]\n",
    "#             embedded_doc = pad_sequences(onehot_repr, padding='pre', maxlen=sl)\n",
    "            \n",
    "#             model = Sequential()\n",
    "#             model.add(Embedding(vs, evf, input_length=sl))\n",
    "#             model.add(Dropout(0.6))\n",
    "#             model.add(LSTM(100))\n",
    "#             model.add(Dense(1, activation='sigmoid'))\n",
    "#             model.compile(loss='binary_crossentropy', optimizer='adam', metrics=['accuracy'])\n",
    "            \n",
    "#             X_f = np.array(embedded_doc)\n",
    "#             y_f = np.array(y)\n",
    "            \n",
    "#             X_train, X_test, y_train, y_test = train_test_split(X_f, y_f, test_size=0.2, random_state=42)\n",
    "            \n",
    "#             model.fit(X_train, y_train, validation_data=(X_test, y_test), epochs=5, batch_size=64, verbose=0)\n",
    "            \n",
    "#             y_pred_prob = model.predict(X_test)\n",
    "#             y_pred = np.round(y_pred_prob).astype(int)\n",
    "#             accuracy = accuracy_score(y_test, y_pred)\n",
    "            \n",
    "#             print(f\"voc_size={vs}, sentence_len={sl}, embedding_vec_feature={evf}: Accuracy = {accuracy}\")\n",
    "            \n",
    "#             if accuracy > best_accuracy:\n",
    "#                 best_accuracy = accuracy\n",
    "#                 best_params = {'voc_size': vs, 'sentence_len': sl, 'embedding_vec_feature': evf}\n",
    "\n",
    "# # Print best parameters\n",
    "# print(\"Best Parameters:\", best_params)\n"
   ]
  }
 ],
 "metadata": {
  "kernelspec": {
   "display_name": "venv",
   "language": "python",
   "name": "python3"
  },
  "language_info": {
   "codemirror_mode": {
    "name": "ipython",
    "version": 3
   },
   "file_extension": ".py",
   "mimetype": "text/x-python",
   "name": "python",
   "nbconvert_exporter": "python",
   "pygments_lexer": "ipython3",
   "version": "3.10.4"
  },
  "orig_nbformat": 4
 },
 "nbformat": 4,
 "nbformat_minor": 2
}
