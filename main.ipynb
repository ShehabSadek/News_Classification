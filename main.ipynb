{
 "cells": [
  {
   "cell_type": "code",
   "execution_count": 1,
   "metadata": {},
   "outputs": [
    {
     "name": "stderr",
     "output_type": "stream",
     "text": [
      "[nltk_data] Downloading package stopwords to\n",
      "[nltk_data]     C:\\Users\\PC\\AppData\\Roaming\\nltk_data...\n",
      "[nltk_data]   Package stopwords is already up-to-date!\n",
      "[nltk_data] Downloading package punkt to\n",
      "[nltk_data]     C:\\Users\\PC\\AppData\\Roaming\\nltk_data...\n",
      "[nltk_data]   Package punkt is already up-to-date!\n",
      "[nltk_data] Downloading package wordnet to\n",
      "[nltk_data]     C:\\Users\\PC\\AppData\\Roaming\\nltk_data...\n",
      "[nltk_data]   Package wordnet is already up-to-date!\n"
     ]
    }
   ],
   "source": [
    "import pandas as pd\n",
    "from Preprocess import * \n",
    "from FeatureExtraction import *"
   ]
  },
  {
   "cell_type": "code",
   "execution_count": 2,
   "metadata": {},
   "outputs": [],
   "source": [
    "dataset_1 = pd.read_csv('data/FakeNewsNet.csv')\n",
    "dataset_2 = pd.read_csv('data/news_articles.csv')\n"
   ]
  },
  {
   "cell_type": "code",
   "execution_count": 24,
   "metadata": {},
   "outputs": [
    {
     "name": "stdout",
     "output_type": "stream",
     "text": [
      "['testing four gram yes', 'testing tri gram', 'kefak habibi lols', 'hello world']\n",
      "1 -gram: ['testing', 'four', 'gram', 'yes']\n",
      "1 Tf-Idf: [0.55528266 0.43779123 0.         0.         0.         0.\n",
      " 0.43779123 0.         0.         0.55528266]\n",
      "2 -gram: ['testing four', 'four gram', 'gram yes']\n",
      "2 Tf-Idf: [0.57735027 0.57735027 0.         0.         0.         0.57735027\n",
      " 0.         0.        ]\n",
      "3 -gram: ['testing four gram', 'four gram yes']\n",
      "3 Tf-Idf: [0.70710678 0.         0.70710678 0.        ]\n",
      "4 -gram: ['testing four gram yes']\n",
      "4 Tf-Idf: [1.]\n",
      "\n",
      "1 -gram: ['testing', 'tri', 'gram']\n",
      "1 Tf-Idf: [0.         0.52640543 0.         0.         0.         0.\n",
      " 0.52640543 0.66767854 0.         0.        ]\n",
      "2 -gram: ['testing tri', 'tri gram']\n",
      "2 Tf-Idf: [0.         0.         0.         0.         0.         0.\n",
      " 0.70710678 0.70710678]\n",
      "3 -gram: ['testing tri gram']\n",
      "3 Tf-Idf: [0. 0. 0. 1.]\n",
      "\n",
      "1 -gram: ['kefak', 'habibi', 'lols']\n",
      "1 Tf-Idf: [0.         0.         0.57735027 0.         0.57735027 0.57735027\n",
      " 0.         0.         0.         0.        ]\n",
      "2 -gram: ['kefak habibi', 'habibi lols']\n",
      "2 Tf-Idf: [0.         0.         0.70710678 0.         0.70710678 0.\n",
      " 0.         0.        ]\n",
      "3 -gram: ['kefak habibi lols']\n",
      "3 Tf-Idf: [0. 1. 0. 0.]\n",
      "\n",
      "1 -gram: ['hello', 'world']\n",
      "1 Tf-Idf: [0.         0.         0.         0.70710678 0.         0.\n",
      " 0.         0.         0.70710678 0.        ]\n",
      "2 -gram: ['hello world']\n",
      "2 Tf-Idf: [0. 0. 0. 1. 0. 0. 0. 0.]\n",
      "\n"
     ]
    }
   ],
   "source": [
    "data = [\"Testing four gram yes\",\"Testing tri gram\",\"two gram\",\"gram\"]\n",
    "preprocessed_data=preprocess_text(data)\n",
    "print(preprocessed_data)\n",
    "\n",
    "for n,text in enumerate(preprocessed_data):\n",
    "    for i in  range(1,5):\n",
    "        if(len(text.split())<i):\n",
    "            break\n",
    "        print(i,'-gram:',n_gram(text,i))\n",
    "        print(i,'Tf-Idf:',tf_idf(preprocessed_data,i)[n])\n",
    "\n",
    "    print('')\n",
    "\n",
    "\n",
    "\n"
   ]
  }
 ],
 "metadata": {
  "kernelspec": {
   "display_name": "venv",
   "language": "python",
   "name": "python3"
  },
  "language_info": {
   "codemirror_mode": {
    "name": "ipython",
    "version": 3
   },
   "file_extension": ".py",
   "mimetype": "text/x-python",
   "name": "python",
   "nbconvert_exporter": "python",
   "pygments_lexer": "ipython3",
   "version": "3.11.0"
  },
  "orig_nbformat": 4
 },
 "nbformat": 4,
 "nbformat_minor": 2
}
